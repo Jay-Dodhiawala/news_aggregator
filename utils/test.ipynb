{
 "cells": [
  {
   "cell_type": "markdown",
   "metadata": {},
   "source": [
    "# Implement the use Auth only using phone number"
   ]
  },
  {
   "cell_type": "code",
   "execution_count": 4,
   "metadata": {},
   "outputs": [],
   "source": [
    "from supabase import create_client\n",
    "from typing import Dict, Any\n",
    "\n",
    "class SupabasePhoneAuth:\n",
    "    def __init__(self, supabase_url: str, supabase_key: str):\n",
    "        self.supabase = create_client(supabase_url, supabase_key)\n",
    "    \n",
    "    def format_phone(self, phone: str) -> str:\n",
    "        \"\"\"Format phone number to ensure it starts with +\"\"\"\n",
    "        return f\"+{phone}\" if not phone.startswith('+') else phone\n",
    "    \n",
    "    def request_otp(self, formatted_phone: str) -> Dict[str, Any]:\n",
    "        \"\"\"Request OTP for phone number\"\"\"\n",
    "        try:\n",
    "            # formatted_phone = self.format_phone(phone)\n",
    "            \n",
    "            response = self.supabase.auth.sign_in_with_otp({\n",
    "                \"phone\": formatted_phone\n",
    "            })\n",
    "            \n",
    "            return {\n",
    "                \"success\": True,\n",
    "                \"message\": \"OTP sent successfully\",\n",
    "                \"phone\": formatted_phone\n",
    "            }\n",
    "            \n",
    "        except Exception as e:\n",
    "            return {\n",
    "                \"success\": False,\n",
    "                \"error\": str(e),\n",
    "                \"phone\": formatted_phone\n",
    "            }\n",
    "    \n",
    "    def verify_otp(self, phone: str, otp: str) -> Dict[str, Any]:\n",
    "        \"\"\"Verify OTP\"\"\"\n",
    "        try:\n",
    "            formatted_phone = self.format_phone(phone)\n",
    "            \n",
    "            response = self.supabase.auth.verify_otp({\n",
    "                \"phone\": formatted_phone,\n",
    "                \"token\": otp,\n",
    "                \"type\": \"sms\"\n",
    "            })\n",
    "            \n",
    "            # After successful verification, get the profile\n",
    "            profile = self.get_profile_by_phone(formatted_phone)\n",
    "            \n",
    "            return {\n",
    "                \"success\": True,\n",
    "                \"user\": response.user,\n",
    "                \"session\": response.session,\n",
    "                \"profile\": profile.get(\"data\")\n",
    "            }\n",
    "            \n",
    "        except Exception as e:\n",
    "            return {\n",
    "                \"success\": False,\n",
    "                \"error\": str(e)\n",
    "            }\n",
    "\n",
    "    def update_profile(self, user_id: str, data: Dict[str, Any]) -> Dict[str, Any]:\n",
    "        \"\"\"Update user profile\"\"\"\n",
    "        try:\n",
    "            response = self.supabase.table('profiles')\\\n",
    "                .update(data)\\\n",
    "                .eq('id', user_id)\\\n",
    "                .execute()\n",
    "                \n",
    "            return {\n",
    "                \"success\": True,\n",
    "                \"data\": response.data[0] if response.data else None\n",
    "            }\n",
    "            \n",
    "        except Exception as e:\n",
    "            return {\n",
    "                \"success\": False,\n",
    "                \"error\": str(e)\n",
    "            }\n",
    "    \n",
    "    def get_profile(self, user_id: str) -> Dict[str, Any]:\n",
    "        \"\"\"Get user profile by user ID\"\"\"\n",
    "        try:\n",
    "            response = self.supabase.table('profiles')\\\n",
    "                .select('*')\\\n",
    "                .eq('id', user_id)\\\n",
    "                .single()\\\n",
    "                .execute()\n",
    "                \n",
    "            return {\n",
    "                \"success\": True,\n",
    "                \"data\": response.data\n",
    "            }\n",
    "            \n",
    "        except Exception as e:\n",
    "            return {\n",
    "                \"success\": False,\n",
    "                \"error\": str(e)\n",
    "            }\n",
    "    \n",
    "    def get_profile_by_phone(self, phone: str) -> Dict[str, Any]:\n",
    "        \"\"\"Get user profile by phone number\"\"\"\n",
    "        try:\n",
    "            # Remove the '+' for comparison since we store it without '+' in the database\n",
    "            phone_without_plus = phone.replace('+', '')\n",
    "            \n",
    "            response = self.supabase.table('profiles')\\\n",
    "                .select('*')\\\n",
    "                .eq('phone_number', phone_without_plus)\\\n",
    "                .single()\\\n",
    "                .execute()\n",
    "                \n",
    "            return {\n",
    "                \"success\": True,\n",
    "                \"data\": response.data\n",
    "            }\n",
    "            \n",
    "        except Exception as e:\n",
    "            return {\n",
    "                \"success\": False,\n",
    "                \"error\": str(e)\n",
    "            }"
   ]
  },
  {
   "cell_type": "code",
   "execution_count": 13,
   "metadata": {},
   "outputs": [],
   "source": [
    "import os\n",
    "from dotenv import load_dotenv\n",
    "\n",
    "load_dotenv()\n",
    "\n",
    "# Initialize the auth handler\n",
    "auth = SupabasePhoneAuth(\n",
    "    supabase_url=os.getenv(\"SUPABASE_URL\"),\n",
    "    supabase_key=os.getenv(\"SUPABASE_KEY\")\n",
    ")\n",
    "\n",
    "supabase = create_client(\n",
    "    os.getenv(\"SUPABASE_URL\"),\n",
    "    os.getenv(\"SUPABASE_KEY\")\n",
    ")\n",
    "\n"
   ]
  },
  {
   "cell_type": "code",
   "execution_count": 14,
   "metadata": {},
   "outputs": [
    {
     "data": {
      "text/plain": [
       "<supabase._sync.client.SyncClient at 0x1a983786050>"
      ]
     },
     "execution_count": 14,
     "metadata": {},
     "output_type": "execute_result"
    }
   ],
   "source": [
    "supabase"
   ]
  },
  {
   "cell_type": "code",
   "execution_count": 16,
   "metadata": {},
   "outputs": [
    {
     "ename": "AuthApiError",
     "evalue": "Database error saving new user",
     "output_type": "error",
     "traceback": [
      "\u001b[1;31m---------------------------------------------------------------------------\u001b[0m",
      "\u001b[1;31mHTTPStatusError\u001b[0m                           Traceback (most recent call last)",
      "File \u001b[1;32md:\\project\\bull_ai\\news_aggregator\\.venv\\lib\\site-packages\\gotrue\\_sync\\gotrue_base_api.py:120\u001b[0m, in \u001b[0;36mSyncGoTrueBaseAPI._request\u001b[1;34m(self, method, path, jwt, redirect_to, headers, query, body, no_resolve_json, xform)\u001b[0m\n\u001b[0;32m    113\u001b[0m response \u001b[38;5;241m=\u001b[39m \u001b[38;5;28mself\u001b[39m\u001b[38;5;241m.\u001b[39m_http_client\u001b[38;5;241m.\u001b[39mrequest(\n\u001b[0;32m    114\u001b[0m     method,\n\u001b[0;32m    115\u001b[0m     url,\n\u001b[1;32m   (...)\u001b[0m\n\u001b[0;32m    118\u001b[0m     json\u001b[38;5;241m=\u001b[39mmodel_dump(body) \u001b[38;5;28;01mif\u001b[39;00m \u001b[38;5;28misinstance\u001b[39m(body, BaseModel) \u001b[38;5;28;01melse\u001b[39;00m body,\n\u001b[0;32m    119\u001b[0m )\n\u001b[1;32m--> 120\u001b[0m \u001b[43mresponse\u001b[49m\u001b[38;5;241;43m.\u001b[39;49m\u001b[43mraise_for_status\u001b[49m\u001b[43m(\u001b[49m\u001b[43m)\u001b[49m\n\u001b[0;32m    121\u001b[0m result \u001b[38;5;241m=\u001b[39m response \u001b[38;5;28;01mif\u001b[39;00m no_resolve_json \u001b[38;5;28;01melse\u001b[39;00m response\u001b[38;5;241m.\u001b[39mjson()\n",
      "File \u001b[1;32md:\\project\\bull_ai\\news_aggregator\\.venv\\lib\\site-packages\\httpx\\_models.py:763\u001b[0m, in \u001b[0;36mResponse.raise_for_status\u001b[1;34m(self)\u001b[0m\n\u001b[0;32m    762\u001b[0m message \u001b[38;5;241m=\u001b[39m message\u001b[38;5;241m.\u001b[39mformat(\u001b[38;5;28mself\u001b[39m, error_type\u001b[38;5;241m=\u001b[39merror_type)\n\u001b[1;32m--> 763\u001b[0m \u001b[38;5;28;01mraise\u001b[39;00m HTTPStatusError(message, request\u001b[38;5;241m=\u001b[39mrequest, response\u001b[38;5;241m=\u001b[39m\u001b[38;5;28mself\u001b[39m)\n",
      "\u001b[1;31mHTTPStatusError\u001b[0m: Server error '500 Internal Server Error' for url 'https://ynlxnxhxrdjcmxpalitn.supabase.co/auth/v1/otp'\nFor more information check: https://developer.mozilla.org/en-US/docs/Web/HTTP/Status/500",
      "\nDuring handling of the above exception, another exception occurred:\n",
      "\u001b[1;31mAuthApiError\u001b[0m                              Traceback (most recent call last)",
      "Cell \u001b[1;32mIn[16], line 1\u001b[0m\n\u001b[1;32m----> 1\u001b[0m res \u001b[38;5;241m=\u001b[39m \u001b[43msupabase\u001b[49m\u001b[38;5;241;43m.\u001b[39;49m\u001b[43mauth\u001b[49m\u001b[38;5;241;43m.\u001b[39;49m\u001b[43msign_in_with_otp\u001b[49m\u001b[43m(\u001b[49m\u001b[43m{\u001b[49m\n\u001b[0;32m      2\u001b[0m \u001b[43m    \u001b[49m\u001b[38;5;124;43m'\u001b[39;49m\u001b[38;5;124;43mphone\u001b[39;49m\u001b[38;5;124;43m'\u001b[39;49m\u001b[43m \u001b[49m\u001b[43m:\u001b[49m\u001b[43m \u001b[49m\u001b[38;5;124;43m'\u001b[39;49m\u001b[38;5;124;43m+12045585998\u001b[39;49m\u001b[38;5;124;43m'\u001b[39;49m\u001b[43m,\u001b[49m\n\u001b[0;32m      3\u001b[0m \u001b[43m}\u001b[49m\u001b[43m)\u001b[49m\n",
      "File \u001b[1;32md:\\project\\bull_ai\\news_aggregator\\.venv\\lib\\site-packages\\gotrue\\_sync\\gotrue_client.py:501\u001b[0m, in \u001b[0;36mSyncGoTrueClient.sign_in_with_otp\u001b[1;34m(self, credentials)\u001b[0m\n\u001b[0;32m    486\u001b[0m     \u001b[38;5;28;01mreturn\u001b[39;00m \u001b[38;5;28mself\u001b[39m\u001b[38;5;241m.\u001b[39m_request(\n\u001b[0;32m    487\u001b[0m         \u001b[38;5;124m\"\u001b[39m\u001b[38;5;124mPOST\u001b[39m\u001b[38;5;124m\"\u001b[39m,\n\u001b[0;32m    488\u001b[0m         \u001b[38;5;124m\"\u001b[39m\u001b[38;5;124motp\u001b[39m\u001b[38;5;124m\"\u001b[39m,\n\u001b[1;32m   (...)\u001b[0m\n\u001b[0;32m    498\u001b[0m         xform\u001b[38;5;241m=\u001b[39mparse_auth_otp_response,\n\u001b[0;32m    499\u001b[0m     )\n\u001b[0;32m    500\u001b[0m \u001b[38;5;28;01mif\u001b[39;00m phone:\n\u001b[1;32m--> 501\u001b[0m     \u001b[38;5;28;01mreturn\u001b[39;00m \u001b[38;5;28;43mself\u001b[39;49m\u001b[38;5;241;43m.\u001b[39;49m\u001b[43m_request\u001b[49m\u001b[43m(\u001b[49m\n\u001b[0;32m    502\u001b[0m \u001b[43m        \u001b[49m\u001b[38;5;124;43m\"\u001b[39;49m\u001b[38;5;124;43mPOST\u001b[39;49m\u001b[38;5;124;43m\"\u001b[39;49m\u001b[43m,\u001b[49m\n\u001b[0;32m    503\u001b[0m \u001b[43m        \u001b[49m\u001b[38;5;124;43m\"\u001b[39;49m\u001b[38;5;124;43motp\u001b[39;49m\u001b[38;5;124;43m\"\u001b[39;49m\u001b[43m,\u001b[49m\n\u001b[0;32m    504\u001b[0m \u001b[43m        \u001b[49m\u001b[43mbody\u001b[49m\u001b[38;5;241;43m=\u001b[39;49m\u001b[43m{\u001b[49m\n\u001b[0;32m    505\u001b[0m \u001b[43m            \u001b[49m\u001b[38;5;124;43m\"\u001b[39;49m\u001b[38;5;124;43mphone\u001b[39;49m\u001b[38;5;124;43m\"\u001b[39;49m\u001b[43m:\u001b[49m\u001b[43m \u001b[49m\u001b[43mphone\u001b[49m\u001b[43m,\u001b[49m\n\u001b[0;32m    506\u001b[0m \u001b[43m            \u001b[49m\u001b[38;5;124;43m\"\u001b[39;49m\u001b[38;5;124;43mdata\u001b[39;49m\u001b[38;5;124;43m\"\u001b[39;49m\u001b[43m:\u001b[49m\u001b[43m \u001b[49m\u001b[43mdata\u001b[49m\u001b[43m,\u001b[49m\n\u001b[0;32m    507\u001b[0m \u001b[43m            \u001b[49m\u001b[38;5;124;43m\"\u001b[39;49m\u001b[38;5;124;43mcreate_user\u001b[39;49m\u001b[38;5;124;43m\"\u001b[39;49m\u001b[43m:\u001b[49m\u001b[43m \u001b[49m\u001b[43mshould_create_user\u001b[49m\u001b[43m,\u001b[49m\n\u001b[0;32m    508\u001b[0m \u001b[43m            \u001b[49m\u001b[38;5;124;43m\"\u001b[39;49m\u001b[38;5;124;43mchannel\u001b[39;49m\u001b[38;5;124;43m\"\u001b[39;49m\u001b[43m:\u001b[49m\u001b[43m \u001b[49m\u001b[43mchannel\u001b[49m\u001b[43m,\u001b[49m\n\u001b[0;32m    509\u001b[0m \u001b[43m            \u001b[49m\u001b[38;5;124;43m\"\u001b[39;49m\u001b[38;5;124;43mgotrue_meta_security\u001b[39;49m\u001b[38;5;124;43m\"\u001b[39;49m\u001b[43m:\u001b[49m\u001b[43m \u001b[49m\u001b[43m{\u001b[49m\n\u001b[0;32m    510\u001b[0m \u001b[43m                \u001b[49m\u001b[38;5;124;43m\"\u001b[39;49m\u001b[38;5;124;43mcaptcha_token\u001b[39;49m\u001b[38;5;124;43m\"\u001b[39;49m\u001b[43m:\u001b[49m\u001b[43m \u001b[49m\u001b[43mcaptcha_token\u001b[49m\u001b[43m,\u001b[49m\n\u001b[0;32m    511\u001b[0m \u001b[43m            \u001b[49m\u001b[43m}\u001b[49m\u001b[43m,\u001b[49m\n\u001b[0;32m    512\u001b[0m \u001b[43m        \u001b[49m\u001b[43m}\u001b[49m\u001b[43m,\u001b[49m\n\u001b[0;32m    513\u001b[0m \u001b[43m        \u001b[49m\u001b[43mxform\u001b[49m\u001b[38;5;241;43m=\u001b[39;49m\u001b[43mparse_auth_otp_response\u001b[49m\u001b[43m,\u001b[49m\n\u001b[0;32m    514\u001b[0m \u001b[43m    \u001b[49m\u001b[43m)\u001b[49m\n\u001b[0;32m    515\u001b[0m \u001b[38;5;28;01mraise\u001b[39;00m AuthInvalidCredentialsError(\n\u001b[0;32m    516\u001b[0m     \u001b[38;5;124m\"\u001b[39m\u001b[38;5;124mYou must provide either an email or phone number\u001b[39m\u001b[38;5;124m\"\u001b[39m\n\u001b[0;32m    517\u001b[0m )\n",
      "File \u001b[1;32md:\\project\\bull_ai\\news_aggregator\\.venv\\lib\\site-packages\\gotrue\\_sync\\gotrue_base_api.py:125\u001b[0m, in \u001b[0;36mSyncGoTrueBaseAPI._request\u001b[1;34m(self, method, path, jwt, redirect_to, headers, query, body, no_resolve_json, xform)\u001b[0m\n\u001b[0;32m    123\u001b[0m         \u001b[38;5;28;01mreturn\u001b[39;00m xform(result)\n\u001b[0;32m    124\u001b[0m \u001b[38;5;28;01mexcept\u001b[39;00m \u001b[38;5;167;01mException\u001b[39;00m \u001b[38;5;28;01mas\u001b[39;00m e:\n\u001b[1;32m--> 125\u001b[0m     \u001b[38;5;28;01mraise\u001b[39;00m handle_exception(e)\n",
      "\u001b[1;31mAuthApiError\u001b[0m: Database error saving new user"
     ]
    }
   ],
   "source": [
    "res = supabase.auth.sign_in_with_otp({\n",
    "    'phone' : '+12045585998',\n",
    "})"
   ]
  },
  {
   "cell_type": "code",
   "execution_count": 11,
   "metadata": {},
   "outputs": [
    {
     "ename": "AuthApiError",
     "evalue": "Token has expired or is invalid",
     "output_type": "error",
     "traceback": [
      "\u001b[1;31m---------------------------------------------------------------------------\u001b[0m",
      "\u001b[1;31mHTTPStatusError\u001b[0m                           Traceback (most recent call last)",
      "File \u001b[1;32md:\\project\\bull_ai\\news_aggregator\\.venv\\lib\\site-packages\\gotrue\\_sync\\gotrue_base_api.py:120\u001b[0m, in \u001b[0;36mSyncGoTrueBaseAPI._request\u001b[1;34m(self, method, path, jwt, redirect_to, headers, query, body, no_resolve_json, xform)\u001b[0m\n\u001b[0;32m    113\u001b[0m response \u001b[38;5;241m=\u001b[39m \u001b[38;5;28mself\u001b[39m\u001b[38;5;241m.\u001b[39m_http_client\u001b[38;5;241m.\u001b[39mrequest(\n\u001b[0;32m    114\u001b[0m     method,\n\u001b[0;32m    115\u001b[0m     url,\n\u001b[1;32m   (...)\u001b[0m\n\u001b[0;32m    118\u001b[0m     json\u001b[38;5;241m=\u001b[39mmodel_dump(body) \u001b[38;5;28;01mif\u001b[39;00m \u001b[38;5;28misinstance\u001b[39m(body, BaseModel) \u001b[38;5;28;01melse\u001b[39;00m body,\n\u001b[0;32m    119\u001b[0m )\n\u001b[1;32m--> 120\u001b[0m \u001b[43mresponse\u001b[49m\u001b[38;5;241;43m.\u001b[39;49m\u001b[43mraise_for_status\u001b[49m\u001b[43m(\u001b[49m\u001b[43m)\u001b[49m\n\u001b[0;32m    121\u001b[0m result \u001b[38;5;241m=\u001b[39m response \u001b[38;5;28;01mif\u001b[39;00m no_resolve_json \u001b[38;5;28;01melse\u001b[39;00m response\u001b[38;5;241m.\u001b[39mjson()\n",
      "File \u001b[1;32md:\\project\\bull_ai\\news_aggregator\\.venv\\lib\\site-packages\\httpx\\_models.py:763\u001b[0m, in \u001b[0;36mResponse.raise_for_status\u001b[1;34m(self)\u001b[0m\n\u001b[0;32m    762\u001b[0m message \u001b[38;5;241m=\u001b[39m message\u001b[38;5;241m.\u001b[39mformat(\u001b[38;5;28mself\u001b[39m, error_type\u001b[38;5;241m=\u001b[39merror_type)\n\u001b[1;32m--> 763\u001b[0m \u001b[38;5;28;01mraise\u001b[39;00m HTTPStatusError(message, request\u001b[38;5;241m=\u001b[39mrequest, response\u001b[38;5;241m=\u001b[39m\u001b[38;5;28mself\u001b[39m)\n",
      "\u001b[1;31mHTTPStatusError\u001b[0m: Client error '403 Forbidden' for url 'https://ynlxnxhxrdjcmxpalitn.supabase.co/auth/v1/verify'\nFor more information check: https://developer.mozilla.org/en-US/docs/Web/HTTP/Status/403",
      "\nDuring handling of the above exception, another exception occurred:\n",
      "\u001b[1;31mAuthApiError\u001b[0m                              Traceback (most recent call last)",
      "Cell \u001b[1;32mIn[11], line 1\u001b[0m\n\u001b[1;32m----> 1\u001b[0m response \u001b[38;5;241m=\u001b[39m \u001b[43msupabase\u001b[49m\u001b[38;5;241;43m.\u001b[39;49m\u001b[43mauth\u001b[49m\u001b[38;5;241;43m.\u001b[39;49m\u001b[43mverify_otp\u001b[49m\u001b[43m(\u001b[49m\u001b[43m{\u001b[49m\n\u001b[0;32m      2\u001b[0m \u001b[43m  \u001b[49m\u001b[38;5;124;43m'\u001b[39;49m\u001b[38;5;124;43mphone\u001b[39;49m\u001b[38;5;124;43m'\u001b[39;49m\u001b[43m:\u001b[49m\u001b[43m \u001b[49m\u001b[38;5;124;43m'\u001b[39;49m\u001b[38;5;124;43m12045585998\u001b[39;49m\u001b[38;5;124;43m'\u001b[39;49m\u001b[43m,\u001b[49m\n\u001b[0;32m      3\u001b[0m \u001b[43m  \u001b[49m\u001b[38;5;124;43m'\u001b[39;49m\u001b[38;5;124;43mtoken\u001b[39;49m\u001b[38;5;124;43m'\u001b[39;49m\u001b[43m:\u001b[49m\u001b[43m \u001b[49m\u001b[38;5;124;43m'\u001b[39;49m\u001b[38;5;124;43m123456\u001b[39;49m\u001b[38;5;124;43m'\u001b[39;49m\u001b[43m,\u001b[49m\n\u001b[0;32m      4\u001b[0m \u001b[43m  \u001b[49m\u001b[38;5;124;43m'\u001b[39;49m\u001b[38;5;124;43mtype\u001b[39;49m\u001b[38;5;124;43m'\u001b[39;49m\u001b[43m:\u001b[49m\u001b[43m \u001b[49m\u001b[38;5;124;43m'\u001b[39;49m\u001b[38;5;124;43msms\u001b[39;49m\u001b[38;5;124;43m'\u001b[39;49m\u001b[43m,\u001b[49m\n\u001b[0;32m      5\u001b[0m \u001b[43m}\u001b[49m\u001b[43m)\u001b[49m\n",
      "File \u001b[1;32md:\\project\\bull_ai\\news_aggregator\\.venv\\lib\\site-packages\\gotrue\\_sync\\gotrue_client.py:559\u001b[0m, in \u001b[0;36mSyncGoTrueClient.verify_otp\u001b[1;34m(self, params)\u001b[0m\n\u001b[0;32m    555\u001b[0m \u001b[38;5;250m\u001b[39m\u001b[38;5;124;03m\"\"\"\u001b[39;00m\n\u001b[0;32m    556\u001b[0m \u001b[38;5;124;03mLog in a user given a User supplied OTP received via mobile.\u001b[39;00m\n\u001b[0;32m    557\u001b[0m \u001b[38;5;124;03m\"\"\"\u001b[39;00m\n\u001b[0;32m    558\u001b[0m \u001b[38;5;28mself\u001b[39m\u001b[38;5;241m.\u001b[39m_remove_session()\n\u001b[1;32m--> 559\u001b[0m response \u001b[38;5;241m=\u001b[39m \u001b[38;5;28;43mself\u001b[39;49m\u001b[38;5;241;43m.\u001b[39;49m\u001b[43m_request\u001b[49m\u001b[43m(\u001b[49m\n\u001b[0;32m    560\u001b[0m \u001b[43m    \u001b[49m\u001b[38;5;124;43m\"\u001b[39;49m\u001b[38;5;124;43mPOST\u001b[39;49m\u001b[38;5;124;43m\"\u001b[39;49m\u001b[43m,\u001b[49m\n\u001b[0;32m    561\u001b[0m \u001b[43m    \u001b[49m\u001b[38;5;124;43m\"\u001b[39;49m\u001b[38;5;124;43mverify\u001b[39;49m\u001b[38;5;124;43m\"\u001b[39;49m\u001b[43m,\u001b[49m\n\u001b[0;32m    562\u001b[0m \u001b[43m    \u001b[49m\u001b[43mbody\u001b[49m\u001b[38;5;241;43m=\u001b[39;49m\u001b[43m{\u001b[49m\n\u001b[0;32m    563\u001b[0m \u001b[43m        \u001b[49m\u001b[38;5;124;43m\"\u001b[39;49m\u001b[38;5;124;43mgotrue_meta_security\u001b[39;49m\u001b[38;5;124;43m\"\u001b[39;49m\u001b[43m:\u001b[49m\u001b[43m \u001b[49m\u001b[43m{\u001b[49m\n\u001b[0;32m    564\u001b[0m \u001b[43m            \u001b[49m\u001b[38;5;124;43m\"\u001b[39;49m\u001b[38;5;124;43mcaptcha_token\u001b[39;49m\u001b[38;5;124;43m\"\u001b[39;49m\u001b[43m:\u001b[49m\u001b[43m \u001b[49m\u001b[43mparams\u001b[49m\u001b[38;5;241;43m.\u001b[39;49m\u001b[43mget\u001b[49m\u001b[43m(\u001b[49m\u001b[38;5;124;43m\"\u001b[39;49m\u001b[38;5;124;43moptions\u001b[39;49m\u001b[38;5;124;43m\"\u001b[39;49m\u001b[43m,\u001b[49m\u001b[43m \u001b[49m\u001b[43m{\u001b[49m\u001b[43m}\u001b[49m\u001b[43m)\u001b[49m\u001b[38;5;241;43m.\u001b[39;49m\u001b[43mget\u001b[49m\u001b[43m(\u001b[49m\u001b[38;5;124;43m\"\u001b[39;49m\u001b[38;5;124;43mcaptcha_token\u001b[39;49m\u001b[38;5;124;43m\"\u001b[39;49m\u001b[43m)\u001b[49m\u001b[43m,\u001b[49m\n\u001b[0;32m    565\u001b[0m \u001b[43m        \u001b[49m\u001b[43m}\u001b[49m\u001b[43m,\u001b[49m\n\u001b[0;32m    566\u001b[0m \u001b[43m        \u001b[49m\u001b[38;5;241;43m*\u001b[39;49m\u001b[38;5;241;43m*\u001b[39;49m\u001b[43mparams\u001b[49m\u001b[43m,\u001b[49m\n\u001b[0;32m    567\u001b[0m \u001b[43m    \u001b[49m\u001b[43m}\u001b[49m\u001b[43m,\u001b[49m\n\u001b[0;32m    568\u001b[0m \u001b[43m    \u001b[49m\u001b[43mredirect_to\u001b[49m\u001b[38;5;241;43m=\u001b[39;49m\u001b[43mparams\u001b[49m\u001b[38;5;241;43m.\u001b[39;49m\u001b[43mget\u001b[49m\u001b[43m(\u001b[49m\u001b[38;5;124;43m\"\u001b[39;49m\u001b[38;5;124;43moptions\u001b[39;49m\u001b[38;5;124;43m\"\u001b[39;49m\u001b[43m,\u001b[49m\u001b[43m \u001b[49m\u001b[43m{\u001b[49m\u001b[43m}\u001b[49m\u001b[43m)\u001b[49m\u001b[38;5;241;43m.\u001b[39;49m\u001b[43mget\u001b[49m\u001b[43m(\u001b[49m\u001b[38;5;124;43m\"\u001b[39;49m\u001b[38;5;124;43mredirect_to\u001b[39;49m\u001b[38;5;124;43m\"\u001b[39;49m\u001b[43m)\u001b[49m\u001b[43m,\u001b[49m\n\u001b[0;32m    569\u001b[0m \u001b[43m    \u001b[49m\u001b[43mxform\u001b[49m\u001b[38;5;241;43m=\u001b[39;49m\u001b[43mparse_auth_response\u001b[49m\u001b[43m,\u001b[49m\n\u001b[0;32m    570\u001b[0m \u001b[43m\u001b[49m\u001b[43m)\u001b[49m\n\u001b[0;32m    571\u001b[0m \u001b[38;5;28;01mif\u001b[39;00m response\u001b[38;5;241m.\u001b[39msession:\n\u001b[0;32m    572\u001b[0m     \u001b[38;5;28mself\u001b[39m\u001b[38;5;241m.\u001b[39m_save_session(response\u001b[38;5;241m.\u001b[39msession)\n",
      "File \u001b[1;32md:\\project\\bull_ai\\news_aggregator\\.venv\\lib\\site-packages\\gotrue\\_sync\\gotrue_base_api.py:125\u001b[0m, in \u001b[0;36mSyncGoTrueBaseAPI._request\u001b[1;34m(self, method, path, jwt, redirect_to, headers, query, body, no_resolve_json, xform)\u001b[0m\n\u001b[0;32m    123\u001b[0m         \u001b[38;5;28;01mreturn\u001b[39;00m xform(result)\n\u001b[0;32m    124\u001b[0m \u001b[38;5;28;01mexcept\u001b[39;00m \u001b[38;5;167;01mException\u001b[39;00m \u001b[38;5;28;01mas\u001b[39;00m e:\n\u001b[1;32m--> 125\u001b[0m     \u001b[38;5;28;01mraise\u001b[39;00m handle_exception(e)\n",
      "\u001b[1;31mAuthApiError\u001b[0m: Token has expired or is invalid"
     ]
    }
   ],
   "source": [
    "response = supabase.auth.verify_otp({\n",
    "  'phone': '12045585998',\n",
    "  'token': '123456',\n",
    "  'type': 'sms',\n",
    "})"
   ]
  },
  {
   "cell_type": "code",
   "execution_count": 6,
   "metadata": {},
   "outputs": [
    {
     "name": "stdout",
     "output_type": "stream",
     "text": [
      "{'success': False, 'error': 'Database error saving new user', 'phone': '12045585998'}\n",
      "{'success': False, 'error': \"{'code': 'PGRST116', 'details': 'The result contains 0 rows', 'hint': None, 'message': 'JSON object requested, multiple (or no) rows returned'}\"}\n"
     ]
    }
   ],
   "source": [
    "# Step 1: Request OTP\n",
    "result = auth.request_otp(\"12045585998\")\n",
    "print(result)\n",
    "\n",
    "if result[\"success\"]:\n",
    "    # In a real application, you'd wait for the user to receive the OTP\n",
    "    otp_code = input(\"Enter the OTP you received: \")\n",
    "    \n",
    "    # Step 2: Verify OTP\n",
    "    verified = auth.verify_otp(\"12045585998\", otp_code)\n",
    "    print(verified)\n",
    "    \n",
    "    if verified[\"success\"]:\n",
    "        # Profile is automatically created by the trigger\n",
    "        # You can update additional fields if needed\n",
    "        profile_update = auth.update_profile(\n",
    "            verified[\"user\"].id,\n",
    "            {\n",
    "                \"first_name\": \"John\",\n",
    "                \"last_name\": \"Doe\"\n",
    "            }\n",
    "        )\n",
    "        print(profile_update)\n",
    "\n",
    "# You can also lookup profiles by phone number\n",
    "profile = auth.get_profile_by_phone(\"+12045585998\")\n",
    "print(profile)"
   ]
  },
  {
   "cell_type": "code",
   "execution_count": 25,
   "metadata": {},
   "outputs": [
    {
     "name": "stdout",
     "output_type": "stream",
     "text": [
      "{'success': True, 'message': 'OTP sent successfully', 'phone': '+12045585998'}\n"
     ]
    }
   ],
   "source": [
    "result = auth_handler.request_otp(\"12045585998\")  # without + prefix\n",
    "print(result)\n"
   ]
  },
  {
   "cell_type": "code",
   "execution_count": 27,
   "metadata": {},
   "outputs": [],
   "source": [
    "# Step 2: Verify OTP (after user receives it)\n",
    "verified = auth_handler.verify_otp(\"12045585998\", \"109321\")\n",
    "if verified[\"success\"]:\n",
    "    # Step 3: Update profile if needed\n",
    "    profile_update = await auth_handler.update_profile(\n",
    "        verified[\"user\"].id,\n",
    "        {\n",
    "            \"first_name\": \"John\",\n",
    "            \"last_name\": \"Doe\"\n",
    "        }\n",
    "    )\n",
    "    print(profile_update)"
   ]
  },
  {
   "cell_type": "code",
   "execution_count": 21,
   "metadata": {},
   "outputs": [
    {
     "data": {
      "text/plain": [
       "{'success': False,\n",
       " 'error': \"object AuthResponse can't be used in 'await' expression\"}"
      ]
     },
     "execution_count": 21,
     "metadata": {},
     "output_type": "execute_result"
    }
   ],
   "source": [
    "# Verify OTP\n",
    "verified"
   ]
  },
  {
   "cell_type": "code",
   "execution_count": 16,
   "metadata": {},
   "outputs": [
    {
     "data": {
      "text/plain": [
       "<coroutine object SupabasePhoneAuth.verify_otp at 0x0000025605865D90>"
      ]
     },
     "execution_count": 16,
     "metadata": {},
     "output_type": "execute_result"
    }
   ],
   "source": [
    "verify_result"
   ]
  },
  {
   "cell_type": "code",
   "execution_count": null,
   "metadata": {},
   "outputs": [],
   "source": []
  }
 ],
 "metadata": {
  "kernelspec": {
   "display_name": ".venv",
   "language": "python",
   "name": "python3"
  },
  "language_info": {
   "codemirror_mode": {
    "name": "ipython",
    "version": 3
   },
   "file_extension": ".py",
   "mimetype": "text/x-python",
   "name": "python",
   "nbconvert_exporter": "python",
   "pygments_lexer": "ipython3",
   "version": "3.10.6"
  }
 },
 "nbformat": 4,
 "nbformat_minor": 2
}
